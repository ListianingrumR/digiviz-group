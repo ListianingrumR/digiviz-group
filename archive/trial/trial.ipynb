{
 "cells": [
  {
   "cell_type": "code",
   "execution_count": 1,
   "id": "f4287c48-8519-4465-ae49-2fb16c333c8d",
   "metadata": {},
   "outputs": [
    {
     "data": {
      "text/plain": [
       "'1.2.2'"
      ]
     },
     "execution_count": 1,
     "metadata": {},
     "output_type": "execute_result"
    }
   ],
   "source": [
    "# Import required libraries\n",
    "\n",
    "# Import visualisation modules\n",
    "import matplotlib as mpl \n",
    "%matplotlib inline \n",
    "import matplotlib.pyplot as plt \n",
    "\n",
    "#Import modules\n",
    "import osmnx as ox\n",
    "import pandas as pd\n",
    "import geopandas as gpd\n",
    "import numpy as np\n",
    "import contextily as ctx\n",
    "\n",
    "#Import datareading modules\n",
    "import fiona\n",
    "import urllib\n",
    "from urllib.request import urlopen\n",
    "import csv\n",
    "import os\n",
    "import tempfile\n",
    "import shutil\n",
    "from pathlib import Path\n",
    "\n",
    "import warnings \n",
    "warnings.simplefilter(action='ignore')\n",
    "ox.__version__"
   ]
  },
  {
   "cell_type": "code",
   "execution_count": 5,
   "id": "39f211de-19c1-4002-a8bd-7206b5119b49",
   "metadata": {},
   "outputs": [
    {
     "name": "stdout",
     "output_type": "stream",
     "text": [
      "3.5.2\n"
     ]
    }
   ],
   "source": [
    "print(mpl.__version__)"
   ]
  },
  {
   "cell_type": "markdown",
   "id": "1b69a630-3ebb-434d-8799-9add13124749",
   "metadata": {},
   "source": [
    "# US County Boundary"
   ]
  },
  {
   "cell_type": "code",
   "execution_count": 46,
   "id": "c9393840-d3de-4165-997e-7088839e2379",
   "metadata": {},
   "outputs": [],
   "source": [
    "file = 'data/gz_2010_us_050_00_500k/gz_2010_us_050_00_500k.shp'\n",
    "county = gpd.read_file(file)"
   ]
  },
  {
   "cell_type": "code",
   "execution_count": 47,
   "id": "0f150945-3156-42a7-a347-9498fdc494ef",
   "metadata": {},
   "outputs": [
    {
     "data": {
      "text/html": [
       "<div>\n",
       "<style scoped>\n",
       "    .dataframe tbody tr th:only-of-type {\n",
       "        vertical-align: middle;\n",
       "    }\n",
       "\n",
       "    .dataframe tbody tr th {\n",
       "        vertical-align: top;\n",
       "    }\n",
       "\n",
       "    .dataframe thead th {\n",
       "        text-align: right;\n",
       "    }\n",
       "</style>\n",
       "<table border=\"1\" class=\"dataframe\">\n",
       "  <thead>\n",
       "    <tr style=\"text-align: right;\">\n",
       "      <th></th>\n",
       "      <th>GEO_ID</th>\n",
       "      <th>STATE</th>\n",
       "      <th>COUNTY</th>\n",
       "      <th>NAME</th>\n",
       "      <th>LSAD</th>\n",
       "      <th>CENSUSAREA</th>\n",
       "      <th>geometry</th>\n",
       "    </tr>\n",
       "  </thead>\n",
       "  <tbody>\n",
       "    <tr>\n",
       "      <th>0</th>\n",
       "      <td>0500000US01029</td>\n",
       "      <td>01</td>\n",
       "      <td>029</td>\n",
       "      <td>Cleburne</td>\n",
       "      <td>County</td>\n",
       "      <td>560.100</td>\n",
       "      <td>POLYGON ((-85.38872 33.91304, -85.38088 33.873...</td>\n",
       "    </tr>\n",
       "    <tr>\n",
       "      <th>1</th>\n",
       "      <td>0500000US01031</td>\n",
       "      <td>01</td>\n",
       "      <td>031</td>\n",
       "      <td>Coffee</td>\n",
       "      <td>County</td>\n",
       "      <td>678.972</td>\n",
       "      <td>POLYGON ((-86.03044 31.61894, -86.00408 31.619...</td>\n",
       "    </tr>\n",
       "    <tr>\n",
       "      <th>2</th>\n",
       "      <td>0500000US01037</td>\n",
       "      <td>01</td>\n",
       "      <td>037</td>\n",
       "      <td>Coosa</td>\n",
       "      <td>County</td>\n",
       "      <td>650.926</td>\n",
       "      <td>POLYGON ((-86.00928 33.10164, -86.00917 33.090...</td>\n",
       "    </tr>\n",
       "    <tr>\n",
       "      <th>3</th>\n",
       "      <td>0500000US01039</td>\n",
       "      <td>01</td>\n",
       "      <td>039</td>\n",
       "      <td>Covington</td>\n",
       "      <td>County</td>\n",
       "      <td>1030.456</td>\n",
       "      <td>POLYGON ((-86.34851 30.99434, -86.35023 30.994...</td>\n",
       "    </tr>\n",
       "    <tr>\n",
       "      <th>4</th>\n",
       "      <td>0500000US01041</td>\n",
       "      <td>01</td>\n",
       "      <td>041</td>\n",
       "      <td>Crenshaw</td>\n",
       "      <td>County</td>\n",
       "      <td>608.840</td>\n",
       "      <td>POLYGON ((-86.14699 31.68045, -86.14711 31.663...</td>\n",
       "    </tr>\n",
       "    <tr>\n",
       "      <th>...</th>\n",
       "      <td>...</td>\n",
       "      <td>...</td>\n",
       "      <td>...</td>\n",
       "      <td>...</td>\n",
       "      <td>...</td>\n",
       "      <td>...</td>\n",
       "      <td>...</td>\n",
       "    </tr>\n",
       "    <tr>\n",
       "      <th>3216</th>\n",
       "      <td>0500000US72131</td>\n",
       "      <td>72</td>\n",
       "      <td>131</td>\n",
       "      <td>San Sebastián</td>\n",
       "      <td>Muno</td>\n",
       "      <td>70.423</td>\n",
       "      <td>POLYGON ((-66.90748 18.25314, -66.90739 18.253...</td>\n",
       "    </tr>\n",
       "    <tr>\n",
       "      <th>3217</th>\n",
       "      <td>0500000US72133</td>\n",
       "      <td>72</td>\n",
       "      <td>133</td>\n",
       "      <td>Santa Isabel</td>\n",
       "      <td>Muno</td>\n",
       "      <td>34.023</td>\n",
       "      <td>POLYGON ((-66.37968 17.94398, -66.38029 17.943...</td>\n",
       "    </tr>\n",
       "    <tr>\n",
       "      <th>3218</th>\n",
       "      <td>0500000US72137</td>\n",
       "      <td>72</td>\n",
       "      <td>137</td>\n",
       "      <td>Toa Baja</td>\n",
       "      <td>Muno</td>\n",
       "      <td>23.241</td>\n",
       "      <td>MULTIPOLYGON (((-66.13957 18.46232, -66.13956 ...</td>\n",
       "    </tr>\n",
       "    <tr>\n",
       "      <th>3219</th>\n",
       "      <td>0500000US72139</td>\n",
       "      <td>72</td>\n",
       "      <td>139</td>\n",
       "      <td>Trujillo Alto</td>\n",
       "      <td>Muno</td>\n",
       "      <td>20.764</td>\n",
       "      <td>POLYGON ((-66.02917 18.37590, -66.02828 18.376...</td>\n",
       "    </tr>\n",
       "    <tr>\n",
       "      <th>3220</th>\n",
       "      <td>0500000US72153</td>\n",
       "      <td>72</td>\n",
       "      <td>153</td>\n",
       "      <td>Yauco</td>\n",
       "      <td>Muno</td>\n",
       "      <td>68.192</td>\n",
       "      <td>POLYGON ((-66.85229 17.95500, -66.85280 17.955...</td>\n",
       "    </tr>\n",
       "  </tbody>\n",
       "</table>\n",
       "<p>3221 rows × 7 columns</p>\n",
       "</div>"
      ],
      "text/plain": [
       "              GEO_ID STATE COUNTY           NAME    LSAD  CENSUSAREA  \\\n",
       "0     0500000US01029    01    029       Cleburne  County     560.100   \n",
       "1     0500000US01031    01    031         Coffee  County     678.972   \n",
       "2     0500000US01037    01    037          Coosa  County     650.926   \n",
       "3     0500000US01039    01    039      Covington  County    1030.456   \n",
       "4     0500000US01041    01    041       Crenshaw  County     608.840   \n",
       "...              ...   ...    ...            ...     ...         ...   \n",
       "3216  0500000US72131    72    131  San Sebastián    Muno      70.423   \n",
       "3217  0500000US72133    72    133   Santa Isabel    Muno      34.023   \n",
       "3218  0500000US72137    72    137       Toa Baja    Muno      23.241   \n",
       "3219  0500000US72139    72    139  Trujillo Alto    Muno      20.764   \n",
       "3220  0500000US72153    72    153          Yauco    Muno      68.192   \n",
       "\n",
       "                                               geometry  \n",
       "0     POLYGON ((-85.38872 33.91304, -85.38088 33.873...  \n",
       "1     POLYGON ((-86.03044 31.61894, -86.00408 31.619...  \n",
       "2     POLYGON ((-86.00928 33.10164, -86.00917 33.090...  \n",
       "3     POLYGON ((-86.34851 30.99434, -86.35023 30.994...  \n",
       "4     POLYGON ((-86.14699 31.68045, -86.14711 31.663...  \n",
       "...                                                 ...  \n",
       "3216  POLYGON ((-66.90748 18.25314, -66.90739 18.253...  \n",
       "3217  POLYGON ((-66.37968 17.94398, -66.38029 17.943...  \n",
       "3218  MULTIPOLYGON (((-66.13957 18.46232, -66.13956 ...  \n",
       "3219  POLYGON ((-66.02917 18.37590, -66.02828 18.376...  \n",
       "3220  POLYGON ((-66.85229 17.95500, -66.85280 17.955...  \n",
       "\n",
       "[3221 rows x 7 columns]"
      ]
     },
     "execution_count": 47,
     "metadata": {},
     "output_type": "execute_result"
    }
   ],
   "source": [
    "county"
   ]
  },
  {
   "cell_type": "code",
   "execution_count": 48,
   "id": "0918c679-dbf6-408a-9004-431cf90f268f",
   "metadata": {},
   "outputs": [
    {
     "name": "stdout",
     "output_type": "stream",
     "text": [
      "<class 'geopandas.geodataframe.GeoDataFrame'>\n",
      "RangeIndex: 3221 entries, 0 to 3220\n",
      "Data columns (total 7 columns):\n",
      " #   Column      Non-Null Count  Dtype   \n",
      "---  ------      --------------  -----   \n",
      " 0   GEO_ID      3221 non-null   object  \n",
      " 1   STATE       3221 non-null   object  \n",
      " 2   COUNTY      3221 non-null   object  \n",
      " 3   NAME        3221 non-null   object  \n",
      " 4   LSAD        3219 non-null   object  \n",
      " 5   CENSUSAREA  3221 non-null   float64 \n",
      " 6   geometry    3221 non-null   geometry\n",
      "dtypes: float64(1), geometry(1), object(5)\n",
      "memory usage: 176.3+ KB\n"
     ]
    }
   ],
   "source": [
    "county.info()"
   ]
  },
  {
   "cell_type": "code",
   "execution_count": 59,
   "id": "71e14cf5-6c60-4521-9280-1f2c09f4a414",
   "metadata": {},
   "outputs": [],
   "source": [
    "file = 'data/Book3.xlsx'\n",
    "hpi09 = pd.read_excel(file)"
   ]
  },
  {
   "cell_type": "code",
   "execution_count": 61,
   "id": "6b29f612-020a-4c16-883c-6d49a9bd3cfb",
   "metadata": {},
   "outputs": [
    {
     "data": {
      "text/html": [
       "<div>\n",
       "<style scoped>\n",
       "    .dataframe tbody tr th:only-of-type {\n",
       "        vertical-align: middle;\n",
       "    }\n",
       "\n",
       "    .dataframe tbody tr th {\n",
       "        vertical-align: top;\n",
       "    }\n",
       "\n",
       "    .dataframe thead th {\n",
       "        text-align: right;\n",
       "    }\n",
       "</style>\n",
       "<table border=\"1\" class=\"dataframe\">\n",
       "  <thead>\n",
       "    <tr style=\"text-align: right;\">\n",
       "      <th></th>\n",
       "      <th>Column1</th>\n",
       "      <th>Column2</th>\n",
       "      <th>Column3</th>\n",
       "      <th>Column4</th>\n",
       "      <th>Column5</th>\n",
       "    </tr>\n",
       "  </thead>\n",
       "  <tbody>\n",
       "    <tr>\n",
       "      <th>0</th>\n",
       "      <td>ATNHPIUS01001A</td>\n",
       "      <td>Autauga County, AL</td>\n",
       "      <td>1001</td>\n",
       "      <td>0500000US01001</td>\n",
       "      <td>132.09</td>\n",
       "    </tr>\n",
       "    <tr>\n",
       "      <th>1</th>\n",
       "      <td>ATNHPIUS01003A</td>\n",
       "      <td>Baldwin County, AL</td>\n",
       "      <td>1003</td>\n",
       "      <td>0500000US01003</td>\n",
       "      <td>141.82</td>\n",
       "    </tr>\n",
       "    <tr>\n",
       "      <th>2</th>\n",
       "      <td>ATNHPIUS01005A</td>\n",
       "      <td>Barbour County, AL</td>\n",
       "      <td>1005</td>\n",
       "      <td>0500000US01005</td>\n",
       "      <td>133.12</td>\n",
       "    </tr>\n",
       "    <tr>\n",
       "      <th>3</th>\n",
       "      <td>ATNHPIUS01007A</td>\n",
       "      <td>Bibb County, AL</td>\n",
       "      <td>1007</td>\n",
       "      <td>0500000US01007</td>\n",
       "      <td>131.94</td>\n",
       "    </tr>\n",
       "    <tr>\n",
       "      <th>4</th>\n",
       "      <td>ATNHPIUS01009A</td>\n",
       "      <td>Blount County, AL</td>\n",
       "      <td>1009</td>\n",
       "      <td>0500000US01009</td>\n",
       "      <td>128.45</td>\n",
       "    </tr>\n",
       "    <tr>\n",
       "      <th>...</th>\n",
       "      <td>...</td>\n",
       "      <td>...</td>\n",
       "      <td>...</td>\n",
       "      <td>...</td>\n",
       "      <td>...</td>\n",
       "    </tr>\n",
       "    <tr>\n",
       "      <th>2390</th>\n",
       "      <td>ATNHPIUS56037A</td>\n",
       "      <td>Sweetwater County, WY</td>\n",
       "      <td>56037</td>\n",
       "      <td>0500000US56037</td>\n",
       "      <td>180.02</td>\n",
       "    </tr>\n",
       "    <tr>\n",
       "      <th>2391</th>\n",
       "      <td>ATNHPIUS56039A</td>\n",
       "      <td>Teton County, WY</td>\n",
       "      <td>56039</td>\n",
       "      <td>0500000US56039</td>\n",
       "      <td>190.18</td>\n",
       "    </tr>\n",
       "    <tr>\n",
       "      <th>2392</th>\n",
       "      <td>ATNHPIUS56041A</td>\n",
       "      <td>Uinta County, WY</td>\n",
       "      <td>56041</td>\n",
       "      <td>0500000US56041</td>\n",
       "      <td>186.92</td>\n",
       "    </tr>\n",
       "    <tr>\n",
       "      <th>2393</th>\n",
       "      <td>ATNHPIUS56043A</td>\n",
       "      <td>Washakie County, WY</td>\n",
       "      <td>56043</td>\n",
       "      <td>0500000US56043</td>\n",
       "      <td>165.79</td>\n",
       "    </tr>\n",
       "    <tr>\n",
       "      <th>2394</th>\n",
       "      <td>ATNHPIUS56045A</td>\n",
       "      <td>Weston County, WY</td>\n",
       "      <td>56045</td>\n",
       "      <td>0500000US56045</td>\n",
       "      <td>177.92</td>\n",
       "    </tr>\n",
       "  </tbody>\n",
       "</table>\n",
       "<p>2395 rows × 5 columns</p>\n",
       "</div>"
      ],
      "text/plain": [
       "             Column1                Column2  Column3         Column4  Column5\n",
       "0     ATNHPIUS01001A     Autauga County, AL     1001  0500000US01001   132.09\n",
       "1     ATNHPIUS01003A     Baldwin County, AL     1003  0500000US01003   141.82\n",
       "2     ATNHPIUS01005A     Barbour County, AL     1005  0500000US01005   133.12\n",
       "3     ATNHPIUS01007A        Bibb County, AL     1007  0500000US01007   131.94\n",
       "4     ATNHPIUS01009A      Blount County, AL     1009  0500000US01009   128.45\n",
       "...              ...                    ...      ...             ...      ...\n",
       "2390  ATNHPIUS56037A  Sweetwater County, WY    56037  0500000US56037   180.02\n",
       "2391  ATNHPIUS56039A       Teton County, WY    56039  0500000US56039   190.18\n",
       "2392  ATNHPIUS56041A       Uinta County, WY    56041  0500000US56041   186.92\n",
       "2393  ATNHPIUS56043A    Washakie County, WY    56043  0500000US56043   165.79\n",
       "2394  ATNHPIUS56045A      Weston County, WY    56045  0500000US56045   177.92\n",
       "\n",
       "[2395 rows x 5 columns]"
      ]
     },
     "execution_count": 61,
     "metadata": {},
     "output_type": "execute_result"
    }
   ],
   "source": [
    "hpi09"
   ]
  },
  {
   "cell_type": "code",
   "execution_count": 62,
   "id": "1f91b4fd-dbec-4906-9097-741d8ba9a0f3",
   "metadata": {},
   "outputs": [
    {
     "name": "stdout",
     "output_type": "stream",
     "text": [
      "<class 'pandas.core.frame.DataFrame'>\n",
      "RangeIndex: 2395 entries, 0 to 2394\n",
      "Data columns (total 5 columns):\n",
      " #   Column   Non-Null Count  Dtype  \n",
      "---  ------   --------------  -----  \n",
      " 0   Column1  2395 non-null   object \n",
      " 1   Column2  2395 non-null   object \n",
      " 2   Column3  2395 non-null   int64  \n",
      " 3   Column4  2395 non-null   object \n",
      " 4   Column5  2395 non-null   float64\n",
      "dtypes: float64(1), int64(1), object(3)\n",
      "memory usage: 93.7+ KB\n"
     ]
    }
   ],
   "source": [
    "hpi09.info()"
   ]
  },
  {
   "cell_type": "code",
   "execution_count": 88,
   "id": "b3868667-7183-4094-84b4-9badfef5ed74",
   "metadata": {},
   "outputs": [
    {
     "name": "stdout",
     "output_type": "stream",
     "text": [
      "<class 'pandas.core.frame.DataFrame'>\n",
      "RangeIndex: 2395 entries, 0 to 2394\n",
      "Data columns (total 5 columns):\n",
      " #   Column   Non-Null Count  Dtype  \n",
      "---  ------   --------------  -----  \n",
      " 0   Column1  2395 non-null   object \n",
      " 1   Column2  2395 non-null   object \n",
      " 2   Column3  2395 non-null   int64  \n",
      " 3   GEO_ID   2395 non-null   object \n",
      " 4   Column5  2395 non-null   float64\n",
      "dtypes: float64(1), int64(1), object(3)\n",
      "memory usage: 93.7+ KB\n"
     ]
    }
   ],
   "source": [
    "hpi09.info()"
   ]
  },
  {
   "cell_type": "code",
   "execution_count": 63,
   "id": "c230098c-26db-4504-a234-6d01a3277f69",
   "metadata": {},
   "outputs": [],
   "source": [
    "# rename the states\n",
    "hpi09.rename(columns={'Column4': 'GEO_ID'}, inplace=True)"
   ]
  },
  {
   "cell_type": "code",
   "execution_count": 65,
   "id": "13184b8c-893f-494a-bc22-c737d24553bd",
   "metadata": {},
   "outputs": [
    {
     "data": {
      "text/plain": [
       "<AxesSubplot:>"
      ]
     },
     "execution_count": 65,
     "metadata": {},
     "output_type": "execute_result"
    },
    {
     "data": {
      "image/png": "[encoded data removed]",
      "text/plain": [
       "<Figure size 432x288 with 1 Axes>"
      ]
     },
     "metadata": {
      "needs_background": "light"
     },
     "output_type": "display_data"
    }
   ],
   "source": [
    "# Join housing file cases data with USA boundary by attribute NAME\n",
    "hpi09_gdf = county.merge(hpi09, on = 'GEO_ID', how = 'left')\n",
    "hpi09_gdf.plot()"
   ]
  },
  {
   "cell_type": "code",
   "execution_count": 89,
   "id": "e321f0a1-3435-4ec5-ab7b-5a68000ad322",
   "metadata": {},
   "outputs": [
    {
     "name": "stdout",
     "output_type": "stream",
     "text": [
      "<class 'geopandas.geodataframe.GeoDataFrame'>\n",
      "Int64Index: 3221 entries, 0 to 3220\n",
      "Data columns (total 11 columns):\n",
      " #   Column      Non-Null Count  Dtype   \n",
      "---  ------      --------------  -----   \n",
      " 0   GEO_ID      3221 non-null   object  \n",
      " 1   STATE       3221 non-null   object  \n",
      " 2   COUNTY      3221 non-null   object  \n",
      " 3   NAME        3221 non-null   object  \n",
      " 4   LSAD        3219 non-null   object  \n",
      " 5   CENSUSAREA  3221 non-null   float64 \n",
      " 6   geometry    3221 non-null   geometry\n",
      " 7   Column1     2395 non-null   object  \n",
      " 8   Column2     2395 non-null   object  \n",
      " 9   Column3     2395 non-null   float64 \n",
      " 10  Column5     2395 non-null   float64 \n",
      "dtypes: float64(3), geometry(1), object(7)\n",
      "memory usage: 302.0+ KB\n"
     ]
    }
   ],
   "source": [
    "hpi09_gdf.info()"
   ]
  },
  {
   "cell_type": "code",
   "execution_count": 90,
   "id": "e5f0b6c4-b620-402e-954c-d7793583e41a",
   "metadata": {},
   "outputs": [],
   "source": [
    "hpi09_gdf = hpi09_gdf.dropna()"
   ]
  },
  {
   "cell_type": "code",
   "execution_count": 101,
   "id": "a680b98e-89de-4a99-90ed-c05a231554bb",
   "metadata": {},
   "outputs": [
    {
     "data": {
      "text/html": [
       "<div>\n",
       "<style scoped>\n",
       "    .dataframe tbody tr th:only-of-type {\n",
       "        vertical-align: middle;\n",
       "    }\n",
       "\n",
       "    .dataframe tbody tr th {\n",
       "        vertical-align: top;\n",
       "    }\n",
       "\n",
       "    .dataframe thead th {\n",
       "        text-align: right;\n",
       "    }\n",
       "</style>\n",
       "<table border=\"1\" class=\"dataframe\">\n",
       "  <thead>\n",
       "    <tr style=\"text-align: right;\">\n",
       "      <th></th>\n",
       "      <th>GEO_ID</th>\n",
       "      <th>STATE</th>\n",
       "      <th>COUNTY</th>\n",
       "      <th>NAME</th>\n",
       "      <th>LSAD</th>\n",
       "      <th>CENSUSAREA</th>\n",
       "      <th>geometry</th>\n",
       "      <th>Column1</th>\n",
       "      <th>Column2</th>\n",
       "      <th>Column3</th>\n",
       "      <th>Column5</th>\n",
       "    </tr>\n",
       "  </thead>\n",
       "  <tbody>\n",
       "    <tr>\n",
       "      <th>0</th>\n",
       "      <td>0500000US01029</td>\n",
       "      <td>01</td>\n",
       "      <td>029</td>\n",
       "      <td>Cleburne</td>\n",
       "      <td>County</td>\n",
       "      <td>560.100</td>\n",
       "      <td>POLYGON ((-85.38872 33.91304, -85.38088 33.873...</td>\n",
       "      <td>ATNHPIUS01029A</td>\n",
       "      <td>Cleburne County, AL</td>\n",
       "      <td>1029.0</td>\n",
       "      <td>144.19</td>\n",
       "    </tr>\n",
       "    <tr>\n",
       "      <th>1</th>\n",
       "      <td>0500000US01031</td>\n",
       "      <td>01</td>\n",
       "      <td>031</td>\n",
       "      <td>Coffee</td>\n",
       "      <td>County</td>\n",
       "      <td>678.972</td>\n",
       "      <td>POLYGON ((-86.03044 31.61894, -86.00408 31.619...</td>\n",
       "      <td>ATNHPIUS01031A</td>\n",
       "      <td>Coffee County, AL</td>\n",
       "      <td>1031.0</td>\n",
       "      <td>148.83</td>\n",
       "    </tr>\n",
       "    <tr>\n",
       "      <th>3</th>\n",
       "      <td>0500000US01039</td>\n",
       "      <td>01</td>\n",
       "      <td>039</td>\n",
       "      <td>Covington</td>\n",
       "      <td>County</td>\n",
       "      <td>1030.456</td>\n",
       "      <td>POLYGON ((-86.34851 30.99434, -86.35023 30.994...</td>\n",
       "      <td>ATNHPIUS01039A</td>\n",
       "      <td>Covington County, AL</td>\n",
       "      <td>1039.0</td>\n",
       "      <td>142.98</td>\n",
       "    </tr>\n",
       "    <tr>\n",
       "      <th>4</th>\n",
       "      <td>0500000US01041</td>\n",
       "      <td>01</td>\n",
       "      <td>041</td>\n",
       "      <td>Crenshaw</td>\n",
       "      <td>County</td>\n",
       "      <td>608.840</td>\n",
       "      <td>POLYGON ((-86.14699 31.68045, -86.14711 31.663...</td>\n",
       "      <td>ATNHPIUS01041A</td>\n",
       "      <td>Crenshaw County, AL</td>\n",
       "      <td>1041.0</td>\n",
       "      <td>151.03</td>\n",
       "    </tr>\n",
       "    <tr>\n",
       "      <th>5</th>\n",
       "      <td>0500000US01045</td>\n",
       "      <td>01</td>\n",
       "      <td>045</td>\n",
       "      <td>Dale</td>\n",
       "      <td>County</td>\n",
       "      <td>561.150</td>\n",
       "      <td>POLYGON ((-85.79043 31.32027, -85.79033 31.323...</td>\n",
       "      <td>ATNHPIUS01045A</td>\n",
       "      <td>Dale County, AL</td>\n",
       "      <td>1045.0</td>\n",
       "      <td>142.60</td>\n",
       "    </tr>\n",
       "    <tr>\n",
       "      <th>...</th>\n",
       "      <td>...</td>\n",
       "      <td>...</td>\n",
       "      <td>...</td>\n",
       "      <td>...</td>\n",
       "      <td>...</td>\n",
       "      <td>...</td>\n",
       "      <td>...</td>\n",
       "      <td>...</td>\n",
       "      <td>...</td>\n",
       "      <td>...</td>\n",
       "      <td>...</td>\n",
       "    </tr>\n",
       "    <tr>\n",
       "      <th>3137</th>\n",
       "      <td>0500000US56025</td>\n",
       "      <td>56</td>\n",
       "      <td>025</td>\n",
       "      <td>Natrona</td>\n",
       "      <td>County</td>\n",
       "      <td>5340.352</td>\n",
       "      <td>POLYGON ((-107.54353 42.78136, -107.54353 42.7...</td>\n",
       "      <td>ATNHPIUS56025A</td>\n",
       "      <td>Natrona County, WY</td>\n",
       "      <td>56025.0</td>\n",
       "      <td>189.33</td>\n",
       "    </tr>\n",
       "    <tr>\n",
       "      <th>3139</th>\n",
       "      <td>0500000US56031</td>\n",
       "      <td>56</td>\n",
       "      <td>031</td>\n",
       "      <td>Platte</td>\n",
       "      <td>County</td>\n",
       "      <td>2084.208</td>\n",
       "      <td>POLYGON ((-104.77417 42.60996, -104.76422 42.6...</td>\n",
       "      <td>ATNHPIUS56031A</td>\n",
       "      <td>Platte County, WY</td>\n",
       "      <td>56031.0</td>\n",
       "      <td>154.63</td>\n",
       "    </tr>\n",
       "    <tr>\n",
       "      <th>3140</th>\n",
       "      <td>0500000US56037</td>\n",
       "      <td>56</td>\n",
       "      <td>037</td>\n",
       "      <td>Sweetwater</td>\n",
       "      <td>County</td>\n",
       "      <td>10426.649</td>\n",
       "      <td>POLYGON ((-109.05008 41.00066, -109.17368 41.0...</td>\n",
       "      <td>ATNHPIUS56037A</td>\n",
       "      <td>Sweetwater County, WY</td>\n",
       "      <td>56037.0</td>\n",
       "      <td>180.02</td>\n",
       "    </tr>\n",
       "    <tr>\n",
       "      <th>3141</th>\n",
       "      <td>0500000US56043</td>\n",
       "      <td>56</td>\n",
       "      <td>043</td>\n",
       "      <td>Washakie</td>\n",
       "      <td>County</td>\n",
       "      <td>2238.549</td>\n",
       "      <td>POLYGON ((-107.12892 43.99455, -107.12797 43.9...</td>\n",
       "      <td>ATNHPIUS56043A</td>\n",
       "      <td>Washakie County, WY</td>\n",
       "      <td>56043.0</td>\n",
       "      <td>165.79</td>\n",
       "    </tr>\n",
       "    <tr>\n",
       "      <th>3142</th>\n",
       "      <td>0500000US56045</td>\n",
       "      <td>56</td>\n",
       "      <td>045</td>\n",
       "      <td>Weston</td>\n",
       "      <td>County</td>\n",
       "      <td>2398.089</td>\n",
       "      <td>POLYGON ((-104.05518 43.76163, -104.05514 43.7...</td>\n",
       "      <td>ATNHPIUS56045A</td>\n",
       "      <td>Weston County, WY</td>\n",
       "      <td>56045.0</td>\n",
       "      <td>177.92</td>\n",
       "    </tr>\n",
       "  </tbody>\n",
       "</table>\n",
       "<p>2393 rows × 11 columns</p>\n",
       "</div>"
      ],
      "text/plain": [
       "              GEO_ID STATE COUNTY        NAME    LSAD  CENSUSAREA  \\\n",
       "0     0500000US01029    01    029    Cleburne  County     560.100   \n",
       "1     0500000US01031    01    031      Coffee  County     678.972   \n",
       "3     0500000US01039    01    039   Covington  County    1030.456   \n",
       "4     0500000US01041    01    041    Crenshaw  County     608.840   \n",
       "5     0500000US01045    01    045        Dale  County     561.150   \n",
       "...              ...   ...    ...         ...     ...         ...   \n",
       "3137  0500000US56025    56    025     Natrona  County    5340.352   \n",
       "3139  0500000US56031    56    031      Platte  County    2084.208   \n",
       "3140  0500000US56037    56    037  Sweetwater  County   10426.649   \n",
       "3141  0500000US56043    56    043    Washakie  County    2238.549   \n",
       "3142  0500000US56045    56    045      Weston  County    2398.089   \n",
       "\n",
       "                                               geometry         Column1  \\\n",
       "0     POLYGON ((-85.38872 33.91304, -85.38088 33.873...  ATNHPIUS01029A   \n",
       "1     POLYGON ((-86.03044 31.61894, -86.00408 31.619...  ATNHPIUS01031A   \n",
       "3     POLYGON ((-86.34851 30.99434, -86.35023 30.994...  ATNHPIUS01039A   \n",
       "4     POLYGON ((-86.14699 31.68045, -86.14711 31.663...  ATNHPIUS01041A   \n",
       "5     POLYGON ((-85.79043 31.32027, -85.79033 31.323...  ATNHPIUS01045A   \n",
       "...                                                 ...             ...   \n",
       "3137  POLYGON ((-107.54353 42.78136, -107.54353 42.7...  ATNHPIUS56025A   \n",
       "3139  POLYGON ((-104.77417 42.60996, -104.76422 42.6...  ATNHPIUS56031A   \n",
       "3140  POLYGON ((-109.05008 41.00066, -109.17368 41.0...  ATNHPIUS56037A   \n",
       "3141  POLYGON ((-107.12892 43.99455, -107.12797 43.9...  ATNHPIUS56043A   \n",
       "3142  POLYGON ((-104.05518 43.76163, -104.05514 43.7...  ATNHPIUS56045A   \n",
       "\n",
       "                    Column2  Column3  Column5  \n",
       "0       Cleburne County, AL   1029.0   144.19  \n",
       "1         Coffee County, AL   1031.0   148.83  \n",
       "3      Covington County, AL   1039.0   142.98  \n",
       "4       Crenshaw County, AL   1041.0   151.03  \n",
       "5           Dale County, AL   1045.0   142.60  \n",
       "...                     ...      ...      ...  \n",
       "3137     Natrona County, WY  56025.0   189.33  \n",
       "3139      Platte County, WY  56031.0   154.63  \n",
       "3140  Sweetwater County, WY  56037.0   180.02  \n",
       "3141    Washakie County, WY  56043.0   165.79  \n",
       "3142      Weston County, WY  56045.0   177.92  \n",
       "\n",
       "[2393 rows x 11 columns]"
      ]
     },
     "execution_count": 101,
     "metadata": {},
     "output_type": "execute_result"
    }
   ],
   "source": [
    "hpi09_gdf"
   ]
  },
  {
   "cell_type": "code",
   "execution_count": 93,
   "id": "52f6e76b-a055-49aa-8f76-2c88b6f4c3de",
   "metadata": {},
   "outputs": [],
   "source": [
    "#Export merged geodataframe into shapefile\n",
    "hpi09_gdf.to_file(\"data/hpi09.geojson\")"
   ]
  },
  {
   "cell_type": "markdown",
   "id": "e78f035d-88fa-4fd6-92a7-4f8064eca581",
   "metadata": {},
   "source": [
    "# Unemployment Rate"
   ]
  },
  {
   "cell_type": "code",
   "execution_count": 72,
   "id": "02985050-4af2-4e00-91e6-5737f06e6f44",
   "metadata": {},
   "outputs": [],
   "source": [
    "file = ('data/unemploy09.xlsx')\n",
    "unemploy09 = pd.read_excel(file)"
   ]
  },
  {
   "cell_type": "code",
   "execution_count": 73,
   "id": "278d15aa-0492-4ba5-abda-c03a3a864fd8",
   "metadata": {},
   "outputs": [
    {
     "name": "stdout",
     "output_type": "stream",
     "text": [
      "<class 'pandas.core.frame.DataFrame'>\n",
      "RangeIndex: 3144 entries, 0 to 3143\n",
      "Data columns (total 5 columns):\n",
      " #   Column   Non-Null Count  Dtype  \n",
      "---  ------   --------------  -----  \n",
      " 0   Column1  3144 non-null   object \n",
      " 1   Column2  3144 non-null   object \n",
      " 2   Column3  3144 non-null   int64  \n",
      " 3   Column4  3144 non-null   object \n",
      " 4   Column5  3139 non-null   float64\n",
      "dtypes: float64(1), int64(1), object(3)\n",
      "memory usage: 122.9+ KB\n"
     ]
    }
   ],
   "source": [
    "unemploy09.info()"
   ]
  },
  {
   "cell_type": "code",
   "execution_count": 74,
   "id": "df684ef3-0538-40d7-b857-809135acb971",
   "metadata": {},
   "outputs": [],
   "source": [
    "# rename the states\n",
    "unemploy09.rename(columns={'Column4': 'GEO_ID'}, inplace=True)"
   ]
  },
  {
   "cell_type": "code",
   "execution_count": 75,
   "id": "0d5d4d03-9373-456d-b6d4-127a087c34c8",
   "metadata": {},
   "outputs": [
    {
     "data": {
      "text/plain": [
       "<AxesSubplot:>"
      ]
     },
     "execution_count": 75,
     "metadata": {},
     "output_type": "execute_result"
    },
    {
     "data": {
      "image/png": "[encoded data removed]",
      "text/plain": [
       "<Figure size 432x288 with 1 Axes>"
      ]
     },
     "metadata": {
      "needs_background": "light"
     },
     "output_type": "display_data"
    }
   ],
   "source": [
    "# Join housing file cases data with USA boundary by attribute NAME\n",
    "unemploy09_gdf = county.merge(unemploy09, on = 'GEO_ID', how = 'left')\n",
    "unemploy09_gdf.plot()"
   ]
  },
  {
   "cell_type": "code",
   "execution_count": 94,
   "id": "c4b9df7c-35e5-4c8d-ad42-1c0bc3769839",
   "metadata": {},
   "outputs": [],
   "source": [
    "unemploy09_gdf = unemploy09_gdf.dropna()"
   ]
  },
  {
   "cell_type": "code",
   "execution_count": 96,
   "id": "997dc204-9f5e-4c45-bfa8-3872381d9f4d",
   "metadata": {},
   "outputs": [],
   "source": [
    "#Export merged geodataframe into shapefile\n",
    "unemploy09_gdf.to_file(\"data/unemploy09.geojson\")"
   ]
  },
  {
   "cell_type": "code",
   "execution_count": 95,
   "id": "65ea5969-cf8e-4249-abb9-22c4d847297a",
   "metadata": {},
   "outputs": [
    {
     "name": "stdout",
     "output_type": "stream",
     "text": [
      "<class 'geopandas.geodataframe.GeoDataFrame'>\n",
      "Int64Index: 3137 entries, 0 to 3145\n",
      "Data columns (total 11 columns):\n",
      " #   Column      Non-Null Count  Dtype   \n",
      "---  ------      --------------  -----   \n",
      " 0   GEO_ID      3137 non-null   object  \n",
      " 1   STATE       3137 non-null   object  \n",
      " 2   COUNTY      3137 non-null   object  \n",
      " 3   NAME        3137 non-null   object  \n",
      " 4   LSAD        3137 non-null   object  \n",
      " 5   CENSUSAREA  3137 non-null   float64 \n",
      " 6   geometry    3137 non-null   geometry\n",
      " 7   Column1     3137 non-null   object  \n",
      " 8   Column2     3137 non-null   object  \n",
      " 9   Column3     3137 non-null   float64 \n",
      " 10  Column5     3137 non-null   float64 \n",
      "dtypes: float64(3), geometry(1), object(7)\n",
      "memory usage: 294.1+ KB\n"
     ]
    }
   ],
   "source": [
    "unemploy09_gdf.info()"
   ]
  },
  {
   "cell_type": "markdown",
   "id": "4c081209-77b8-4f1d-824c-fc378a0b209c",
   "metadata": {},
   "source": [
    "# Income"
   ]
  },
  {
   "cell_type": "code",
   "execution_count": 77,
   "id": "0c970ef1-0908-48fa-986d-f97fee26c321",
   "metadata": {},
   "outputs": [],
   "source": [
    "file = ('data/income09.xlsx')\n",
    "income09 = pd.read_excel(file)"
   ]
  },
  {
   "cell_type": "code",
   "execution_count": 78,
   "id": "980d9358-05bb-4d0b-91ec-8e47581a6ef7",
   "metadata": {},
   "outputs": [
    {
     "data": {
      "text/html": [
       "<div>\n",
       "<style scoped>\n",
       "    .dataframe tbody tr th:only-of-type {\n",
       "        vertical-align: middle;\n",
       "    }\n",
       "\n",
       "    .dataframe tbody tr th {\n",
       "        vertical-align: top;\n",
       "    }\n",
       "\n",
       "    .dataframe thead th {\n",
       "        text-align: right;\n",
       "    }\n",
       "</style>\n",
       "<table border=\"1\" class=\"dataframe\">\n",
       "  <thead>\n",
       "    <tr style=\"text-align: right;\">\n",
       "      <th></th>\n",
       "      <th>Column1</th>\n",
       "      <th>Column2</th>\n",
       "      <th>Column3</th>\n",
       "      <th>Column32</th>\n",
       "      <th>Column4</th>\n",
       "    </tr>\n",
       "  </thead>\n",
       "  <tbody>\n",
       "    <tr>\n",
       "      <th>0</th>\n",
       "      <td>MHIAL01001A052NCEN</td>\n",
       "      <td>Autauga County, AL</td>\n",
       "      <td>1001</td>\n",
       "      <td>0500000US01001</td>\n",
       "      <td>53081.0</td>\n",
       "    </tr>\n",
       "    <tr>\n",
       "      <th>1</th>\n",
       "      <td>MHIAL01003A052NCEN</td>\n",
       "      <td>Baldwin County, AL</td>\n",
       "      <td>1003</td>\n",
       "      <td>0500000US01003</td>\n",
       "      <td>48637.0</td>\n",
       "    </tr>\n",
       "    <tr>\n",
       "      <th>2</th>\n",
       "      <td>MHIAL01005A052NCEN</td>\n",
       "      <td>Barbour County, AL</td>\n",
       "      <td>1005</td>\n",
       "      <td>0500000US01005</td>\n",
       "      <td>28802.0</td>\n",
       "    </tr>\n",
       "    <tr>\n",
       "      <th>3</th>\n",
       "      <td>MHIAL01007A052NCEN</td>\n",
       "      <td>Bibb County, AL</td>\n",
       "      <td>1007</td>\n",
       "      <td>0500000US01007</td>\n",
       "      <td>38294.0</td>\n",
       "    </tr>\n",
       "    <tr>\n",
       "      <th>4</th>\n",
       "      <td>MHIAL01009A052NCEN</td>\n",
       "      <td>Blount County, AL</td>\n",
       "      <td>1009</td>\n",
       "      <td>0500000US01009</td>\n",
       "      <td>41520.0</td>\n",
       "    </tr>\n",
       "    <tr>\n",
       "      <th>...</th>\n",
       "      <td>...</td>\n",
       "      <td>...</td>\n",
       "      <td>...</td>\n",
       "      <td>...</td>\n",
       "      <td>...</td>\n",
       "    </tr>\n",
       "    <tr>\n",
       "      <th>3138</th>\n",
       "      <td>MHIWY56037A052NCEN</td>\n",
       "      <td>Sweetwater County, WY</td>\n",
       "      <td>56037</td>\n",
       "      <td>0500000US56037</td>\n",
       "      <td>69297.0</td>\n",
       "    </tr>\n",
       "    <tr>\n",
       "      <th>3139</th>\n",
       "      <td>MHIWY56039A052NCEN</td>\n",
       "      <td>Teton County, WY</td>\n",
       "      <td>56039</td>\n",
       "      <td>0500000US56039</td>\n",
       "      <td>68777.0</td>\n",
       "    </tr>\n",
       "    <tr>\n",
       "      <th>3140</th>\n",
       "      <td>MHIWY56041A052NCEN</td>\n",
       "      <td>Uinta County, WY</td>\n",
       "      <td>56041</td>\n",
       "      <td>0500000US56041</td>\n",
       "      <td>64284.0</td>\n",
       "    </tr>\n",
       "    <tr>\n",
       "      <th>3141</th>\n",
       "      <td>MHIWY56043A052NCEN</td>\n",
       "      <td>Washakie County, WY</td>\n",
       "      <td>56043</td>\n",
       "      <td>0500000US56043</td>\n",
       "      <td>47098.0</td>\n",
       "    </tr>\n",
       "    <tr>\n",
       "      <th>3142</th>\n",
       "      <td>MHIWY56045A052NCEN</td>\n",
       "      <td>Weston County, WY</td>\n",
       "      <td>56045</td>\n",
       "      <td>0500000US56045</td>\n",
       "      <td>50642.0</td>\n",
       "    </tr>\n",
       "  </tbody>\n",
       "</table>\n",
       "<p>3143 rows × 5 columns</p>\n",
       "</div>"
      ],
      "text/plain": [
       "                 Column1                Column2  Column3        Column32  \\\n",
       "0     MHIAL01001A052NCEN     Autauga County, AL     1001  0500000US01001   \n",
       "1     MHIAL01003A052NCEN     Baldwin County, AL     1003  0500000US01003   \n",
       "2     MHIAL01005A052NCEN     Barbour County, AL     1005  0500000US01005   \n",
       "3     MHIAL01007A052NCEN        Bibb County, AL     1007  0500000US01007   \n",
       "4     MHIAL01009A052NCEN      Blount County, AL     1009  0500000US01009   \n",
       "...                  ...                    ...      ...             ...   \n",
       "3138  MHIWY56037A052NCEN  Sweetwater County, WY    56037  0500000US56037   \n",
       "3139  MHIWY56039A052NCEN       Teton County, WY    56039  0500000US56039   \n",
       "3140  MHIWY56041A052NCEN       Uinta County, WY    56041  0500000US56041   \n",
       "3141  MHIWY56043A052NCEN    Washakie County, WY    56043  0500000US56043   \n",
       "3142  MHIWY56045A052NCEN      Weston County, WY    56045  0500000US56045   \n",
       "\n",
       "      Column4  \n",
       "0     53081.0  \n",
       "1     48637.0  \n",
       "2     28802.0  \n",
       "3     38294.0  \n",
       "4     41520.0  \n",
       "...       ...  \n",
       "3138  69297.0  \n",
       "3139  68777.0  \n",
       "3140  64284.0  \n",
       "3141  47098.0  \n",
       "3142  50642.0  \n",
       "\n",
       "[3143 rows x 5 columns]"
      ]
     },
     "execution_count": 78,
     "metadata": {},
     "output_type": "execute_result"
    }
   ],
   "source": [
    "income09"
   ]
  },
  {
   "cell_type": "code",
   "execution_count": 83,
   "id": "64b7227b-d09b-41dd-8506-2752e2389595",
   "metadata": {},
   "outputs": [],
   "source": [
    "# rename the states\n",
    "income09.rename(columns={'Column32': 'GEO_ID'}, inplace=True)"
   ]
  },
  {
   "cell_type": "code",
   "execution_count": 84,
   "id": "ce30d00b-c64f-4788-966d-07d40d2f88c5",
   "metadata": {},
   "outputs": [
    {
     "data": {
      "text/plain": [
       "<AxesSubplot:>"
      ]
     },
     "execution_count": 84,
     "metadata": {},
     "output_type": "execute_result"
    },
    {
     "data": {
      "image/png": "[encoded data removed]",
      "text/plain": [
       "<Figure size 432x288 with 1 Axes>"
      ]
     },
     "metadata": {
      "needs_background": "light"
     },
     "output_type": "display_data"
    }
   ],
   "source": [
    "# Join housing file cases data with USA boundary by attribute NAME\n",
    "income09_gdf = county.merge(income09, on = 'GEO_ID', how = 'left')\n",
    "income09_gdf.plot()"
   ]
  },
  {
   "cell_type": "code",
   "execution_count": 98,
   "id": "a9fda7dd-1838-4357-b571-9d2cf1cea7d3",
   "metadata": {},
   "outputs": [
    {
     "name": "stdout",
     "output_type": "stream",
     "text": [
      "<class 'pandas.core.frame.DataFrame'>\n",
      "RangeIndex: 3143 entries, 0 to 3142\n",
      "Data columns (total 5 columns):\n",
      " #   Column   Non-Null Count  Dtype  \n",
      "---  ------   --------------  -----  \n",
      " 0   Column1  3143 non-null   object \n",
      " 1   Column2  3143 non-null   object \n",
      " 2   Column3  3143 non-null   int64  \n",
      " 3   GEO_ID   3143 non-null   object \n",
      " 4   Column4  3142 non-null   float64\n",
      "dtypes: float64(1), int64(1), object(3)\n",
      "memory usage: 122.9+ KB\n"
     ]
    }
   ],
   "source": [
    "income09.info()"
   ]
  },
  {
   "cell_type": "code",
   "execution_count": 97,
   "id": "c43c9183-bc77-4803-81ed-709046703452",
   "metadata": {},
   "outputs": [],
   "source": [
    "income09_gdf = income09_gdf.dropna()"
   ]
  },
  {
   "cell_type": "code",
   "execution_count": 99,
   "id": "e5039c96-b91f-4fa1-a080-4a9370ebb51c",
   "metadata": {},
   "outputs": [
    {
     "name": "stdout",
     "output_type": "stream",
     "text": [
      "<class 'geopandas.geodataframe.GeoDataFrame'>\n",
      "Int64Index: 3140 entries, 0 to 3142\n",
      "Data columns (total 11 columns):\n",
      " #   Column      Non-Null Count  Dtype   \n",
      "---  ------      --------------  -----   \n",
      " 0   GEO_ID      3140 non-null   object  \n",
      " 1   STATE       3140 non-null   object  \n",
      " 2   COUNTY      3140 non-null   object  \n",
      " 3   NAME        3140 non-null   object  \n",
      " 4   LSAD        3140 non-null   object  \n",
      " 5   CENSUSAREA  3140 non-null   float64 \n",
      " 6   geometry    3140 non-null   geometry\n",
      " 7   Column1     3140 non-null   object  \n",
      " 8   Column2     3140 non-null   object  \n",
      " 9   Column3     3140 non-null   float64 \n",
      " 10  Column4     3140 non-null   float64 \n",
      "dtypes: float64(3), geometry(1), object(7)\n",
      "memory usage: 294.4+ KB\n"
     ]
    }
   ],
   "source": [
    "income09_gdf.info()"
   ]
  },
  {
   "cell_type": "code",
   "execution_count": 100,
   "id": "ff1cae06-14ad-408c-9a7e-aa5523d4a328",
   "metadata": {},
   "outputs": [],
   "source": [
    "#Export merged geodataframe into shapefile\n",
    "income09_gdf.to_file(\"data/income09.geojson\")"
   ]
  },
  {
   "cell_type": "markdown",
   "id": "3aeb6297-c4a2-4020-b41c-f9305fbfd75d",
   "metadata": {},
   "source": [
    "# GDP"
   ]
  },
  {
   "cell_type": "code",
   "execution_count": null,
   "id": "154323df-cb02-4a3b-b7cd-6883a3570054",
   "metadata": {},
   "outputs": [],
   "source": []
  }
 ],
 "metadata": {
  "kernelspec": {
   "display_name": "Python 3 (ipykernel)",
   "language": "python",
   "name": "python3"
  },
  "language_info": {
   "codemirror_mode": {
    "name": "ipython",
    "version": 3
   },
   "file_extension": ".py",
   "mimetype": "text/x-python",
   "name": "python",
   "nbconvert_exporter": "python",
   "pygments_lexer": "ipython3",
   "version": "3.10.5"
  }
 },
 "nbformat": 4,
 "nbformat_minor": 5
}
